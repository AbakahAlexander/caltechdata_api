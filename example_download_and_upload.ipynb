{
 "cells": [
  {
   "cell_type": "code",
   "execution_count": 1,
   "metadata": {},
   "outputs": [],
   "source": [
    "from caltechdata_api import download_file, caltechdata_write\n",
    "import json"
   ]
  },
  {
   "cell_type": "code",
   "execution_count": 2,
   "metadata": {},
   "outputs": [
    {
     "data": {
      "application/vnd.jupyter.widget-view+json": {
       "model_id": "0f9182c455d94474ae1845c7047b4e0a",
       "version_major": 2,
       "version_minor": 0
      },
      "text/plain": [
       "HBox(children=(HTML(value=''), FloatProgress(value=0.0, max=15990.0), HTML(value='')))"
      ]
     },
     "metadata": {},
     "output_type": "display_data"
    }
   ],
   "source": [
    "#By default will download to file named 10.22002-D1.1098\n",
    "#Can provide filename of interest using fname option\n",
    "filen = download_file('10.22002/D1.1098')"
   ]
  },
  {
   "cell_type": "code",
   "execution_count": 3,
   "metadata": {},
   "outputs": [
    {
     "name": "stdout",
     "output_type": "stream",
     "text": [
      "Successfully created record https://cd-sandbox.tind.io/records/744.  \n"
     ]
    }
   ],
   "source": [
    "#Now write a file to CaltechDATA test instance (cd-sandbox.tind.io)\n",
    "\n",
    "token = 'TOKEN'\n",
    "\n",
    "metaf = open('example43.json', 'r')\n",
    "metadata = json.load(metaf)\n",
    "filen = 'logo.gif'\n",
    "\n",
    "production = False\n",
    "\n",
    "response = caltechdata_write(metadata, token, filen, production, schema='43')\n",
    "print(response)"
   ]
  },
  {
   "cell_type": "code",
   "execution_count": null,
   "metadata": {},
   "outputs": [],
   "source": []
  }
 ],
 "metadata": {
  "kernelspec": {
   "display_name": "Python 3",
   "language": "python",
   "name": "python3"
  },
  "language_info": {
   "codemirror_mode": {
    "name": "ipython",
    "version": 3
   },
   "file_extension": ".py",
   "mimetype": "text/x-python",
   "name": "python",
   "nbconvert_exporter": "python",
   "pygments_lexer": "ipython3",
   "version": "3.8.5"
  }
 },
 "nbformat": 4,
 "nbformat_minor": 4
}
