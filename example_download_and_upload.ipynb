{
 "cells": [
  {
   "cell_type": "code",
   "execution_count": 4,
   "metadata": {},
   "outputs": [],
   "source": [
    "from caltechdata_api import download_file, caltechdata_write\n",
    "import json"
   ]
  },
  {
   "cell_type": "code",
   "execution_count": 2,
   "metadata": {},
   "outputs": [
    {
     "data": {
      "application/vnd.jupyter.widget-view+json": {
       "model_id": "7e6735a34e5c4448bbeb72920ed7b963",
       "version_major": 2,
       "version_minor": 0
      },
      "text/plain": [
       "HBox(children=(IntProgress(value=0, max=665896), HTML(value='')))"
      ]
     },
     "metadata": {},
     "output_type": "display_data"
    }
   ],
   "source": [
    "#By default will download to file named 10.22002-D1.1945\n",
    "#Can provide filename of interest using fname option\n",
    "filen = download_file('10.22002/D1.1945')"
   ]
  },
  {
   "cell_type": "code",
   "execution_count": 5,
   "metadata": {},
   "outputs": [
    {
     "name": "stdout",
     "output_type": "stream",
     "text": [
      "Successfully created record https://cd-sandbox.tind.io/records/733.  \n"
     ]
    }
   ],
   "source": [
    "#Now write a file to CaltechDATA test instance (cd-sandbox.tind.io)\n",
    "\n",
    "token = 'PASTE TOKEN HERE'\n",
    "\n",
    "metaf = open('example.json', 'r')\n",
    "metadata = json.load(metaf)\n",
    "filen = 'logo.gif'\n",
    "\n",
    "production = False\n",
    "\n",
    "response = caltechdata_write(metadata, token, filen, production)\n",
    "print(response)"
   ]
  },
  {
   "cell_type": "code",
   "execution_count": null,
   "metadata": {},
   "outputs": [],
   "source": []
  }
 ],
 "metadata": {
  "kernelspec": {
   "display_name": "Python 3",
   "language": "python",
   "name": "python3"
  },
  "language_info": {
   "codemirror_mode": {
    "name": "ipython",
    "version": 3
   },
   "file_extension": ".py",
   "mimetype": "text/x-python",
   "name": "python",
   "nbconvert_exporter": "python",
   "pygments_lexer": "ipython3",
   "version": "3.7.4"
  }
 },
 "nbformat": 4,
 "nbformat_minor": 2
}
