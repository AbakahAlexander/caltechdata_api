{
  "nbformat": 4,
  "nbformat_minor": 0,
  "metadata": {
    "colab": {
      "provenance": []
    },
    "kernelspec": {
      "name": "python3",
      "display_name": "Python 3"
    },
    "language_info": {
      "name": "python"
    }
  },
  "cells": [
    {
      "cell_type": "markdown",
      "source": [
        "Use this command to install the *Caltechdata API*. This gives you access to all the functions for uploading data, making changes, etc However, remember that if you install it in an online code editor like Google Colab, you have to run this command each time you're connected back to the runtime."
      ],
      "metadata": {
        "id": "vs_acZFiE-nF"
      }
    },
    {
      "cell_type": "code",
      "source": [
        "pip install caltechdata_api"
      ],
      "metadata": {
        "colab": {
          "base_uri": "https://localhost:8080/"
        },
        "id": "s5BHYqHwlKVp",
        "outputId": "373618a0-c42d-4c79-d714-223fdb0f9df3"
      },
      "execution_count": null,
      "outputs": [
        {
          "output_type": "stream",
          "name": "stdout",
          "text": [
            "Collecting caltechdata_api\n",
            "  Downloading caltechdata_api-1.9.0-py3-none-any.whl.metadata (3.4 kB)\n",
            "Requirement already satisfied: requests in /usr/local/lib/python3.10/dist-packages (from caltechdata_api) (2.32.3)\n",
            "Collecting datacite>1.1.0 (from caltechdata_api)\n",
            "  Downloading datacite-1.2.0-py2.py3-none-any.whl.metadata (6.2 kB)\n",
            "Requirement already satisfied: tqdm>=4.62.3 in /usr/local/lib/python3.10/dist-packages (from caltechdata_api) (4.66.6)\n",
            "Requirement already satisfied: pyyaml in /usr/local/lib/python3.10/dist-packages (from caltechdata_api) (6.0.2)\n",
            "Collecting s3fs (from caltechdata_api)\n",
            "  Downloading s3fs-2024.10.0-py3-none-any.whl.metadata (1.7 kB)\n",
            "Requirement already satisfied: cryptography in /usr/local/lib/python3.10/dist-packages (from caltechdata_api) (43.0.3)\n",
            "Collecting s3cmd (from caltechdata_api)\n",
            "  Downloading s3cmd-2.4.0-py2.py3-none-any.whl.metadata (2.1 kB)\n",
            "Requirement already satisfied: jsonschema>=3.0.0 in /usr/local/lib/python3.10/dist-packages (from datacite>1.1.0->caltechdata_api) (4.23.0)\n",
            "Requirement already satisfied: lxml>=4.5.2 in /usr/local/lib/python3.10/dist-packages (from datacite>1.1.0->caltechdata_api) (5.3.0)\n",
            "Collecting idutils>=1.0.0 (from datacite>1.1.0->caltechdata_api)\n",
            "  Downloading idutils-1.4.2-py2.py3-none-any.whl.metadata (7.3 kB)\n",
            "Requirement already satisfied: importlib-metadata>=6.11.0 in /usr/local/lib/python3.10/dist-packages (from datacite>1.1.0->caltechdata_api) (8.5.0)\n",
            "Requirement already satisfied: charset-normalizer<4,>=2 in /usr/local/lib/python3.10/dist-packages (from requests->caltechdata_api) (3.4.0)\n",
            "Requirement already satisfied: idna<4,>=2.5 in /usr/local/lib/python3.10/dist-packages (from requests->caltechdata_api) (3.10)\n",
            "Requirement already satisfied: urllib3<3,>=1.21.1 in /usr/local/lib/python3.10/dist-packages (from requests->caltechdata_api) (2.2.3)\n",
            "Requirement already satisfied: certifi>=2017.4.17 in /usr/local/lib/python3.10/dist-packages (from requests->caltechdata_api) (2024.8.30)\n",
            "Requirement already satisfied: cffi>=1.12 in /usr/local/lib/python3.10/dist-packages (from cryptography->caltechdata_api) (1.17.1)\n",
            "Requirement already satisfied: python-dateutil in /usr/local/lib/python3.10/dist-packages (from s3cmd->caltechdata_api) (2.8.2)\n",
            "Collecting python-magic (from s3cmd->caltechdata_api)\n",
            "  Downloading python_magic-0.4.27-py2.py3-none-any.whl.metadata (5.8 kB)\n",
            "Collecting aiobotocore<3.0.0,>=2.5.4 (from s3fs->caltechdata_api)\n",
            "  Downloading aiobotocore-2.15.2-py3-none-any.whl.metadata (23 kB)\n",
            "Requirement already satisfied: fsspec==2024.10.0.* in /usr/local/lib/python3.10/dist-packages (from s3fs->caltechdata_api) (2024.10.0)\n",
            "Requirement already satisfied: aiohttp!=4.0.0a0,!=4.0.0a1 in /usr/local/lib/python3.10/dist-packages (from s3fs->caltechdata_api) (3.11.2)\n",
            "Collecting botocore<1.35.37,>=1.35.16 (from aiobotocore<3.0.0,>=2.5.4->s3fs->caltechdata_api)\n",
            "  Downloading botocore-1.35.36-py3-none-any.whl.metadata (5.7 kB)\n",
            "Requirement already satisfied: wrapt<2.0.0,>=1.10.10 in /usr/local/lib/python3.10/dist-packages (from aiobotocore<3.0.0,>=2.5.4->s3fs->caltechdata_api) (1.16.0)\n",
            "Collecting aioitertools<1.0.0,>=0.5.1 (from aiobotocore<3.0.0,>=2.5.4->s3fs->caltechdata_api)\n",
            "  Downloading aioitertools-0.12.0-py3-none-any.whl.metadata (3.8 kB)\n",
            "Requirement already satisfied: aiohappyeyeballs>=2.3.0 in /usr/local/lib/python3.10/dist-packages (from aiohttp!=4.0.0a0,!=4.0.0a1->s3fs->caltechdata_api) (2.4.3)\n",
            "Requirement already satisfied: aiosignal>=1.1.2 in /usr/local/lib/python3.10/dist-packages (from aiohttp!=4.0.0a0,!=4.0.0a1->s3fs->caltechdata_api) (1.3.1)\n",
            "Requirement already satisfied: attrs>=17.3.0 in /usr/local/lib/python3.10/dist-packages (from aiohttp!=4.0.0a0,!=4.0.0a1->s3fs->caltechdata_api) (24.2.0)\n",
            "Requirement already satisfied: frozenlist>=1.1.1 in /usr/local/lib/python3.10/dist-packages (from aiohttp!=4.0.0a0,!=4.0.0a1->s3fs->caltechdata_api) (1.5.0)\n",
            "Requirement already satisfied: multidict<7.0,>=4.5 in /usr/local/lib/python3.10/dist-packages (from aiohttp!=4.0.0a0,!=4.0.0a1->s3fs->caltechdata_api) (6.1.0)\n",
            "Requirement already satisfied: propcache>=0.2.0 in /usr/local/lib/python3.10/dist-packages (from aiohttp!=4.0.0a0,!=4.0.0a1->s3fs->caltechdata_api) (0.2.0)\n",
            "Requirement already satisfied: yarl<2.0,>=1.17.0 in /usr/local/lib/python3.10/dist-packages (from aiohttp!=4.0.0a0,!=4.0.0a1->s3fs->caltechdata_api) (1.17.2)\n",
            "Requirement already satisfied: async-timeout<6.0,>=4.0 in /usr/local/lib/python3.10/dist-packages (from aiohttp!=4.0.0a0,!=4.0.0a1->s3fs->caltechdata_api) (4.0.3)\n",
            "Requirement already satisfied: pycparser in /usr/local/lib/python3.10/dist-packages (from cffi>=1.12->cryptography->caltechdata_api) (2.22)\n",
            "Collecting isbnlib>=3.10.8 (from idutils>=1.0.0->datacite>1.1.0->caltechdata_api)\n",
            "  Downloading isbnlib-3.10.14-py2.py3-none-any.whl.metadata (16 kB)\n",
            "Requirement already satisfied: zipp>=3.20 in /usr/local/lib/python3.10/dist-packages (from importlib-metadata>=6.11.0->datacite>1.1.0->caltechdata_api) (3.21.0)\n",
            "Requirement already satisfied: jsonschema-specifications>=2023.03.6 in /usr/local/lib/python3.10/dist-packages (from jsonschema>=3.0.0->datacite>1.1.0->caltechdata_api) (2024.10.1)\n",
            "Requirement already satisfied: referencing>=0.28.4 in /usr/local/lib/python3.10/dist-packages (from jsonschema>=3.0.0->datacite>1.1.0->caltechdata_api) (0.35.1)\n",
            "Requirement already satisfied: rpds-py>=0.7.1 in /usr/local/lib/python3.10/dist-packages (from jsonschema>=3.0.0->datacite>1.1.0->caltechdata_api) (0.21.0)\n",
            "Requirement already satisfied: six>=1.5 in /usr/local/lib/python3.10/dist-packages (from python-dateutil->s3cmd->caltechdata_api) (1.16.0)\n",
            "Collecting jmespath<2.0.0,>=0.7.1 (from botocore<1.35.37,>=1.35.16->aiobotocore<3.0.0,>=2.5.4->s3fs->caltechdata_api)\n",
            "  Downloading jmespath-1.0.1-py3-none-any.whl.metadata (7.6 kB)\n",
            "Requirement already satisfied: typing-extensions>=4.1.0 in /usr/local/lib/python3.10/dist-packages (from multidict<7.0,>=4.5->aiohttp!=4.0.0a0,!=4.0.0a1->s3fs->caltechdata_api) (4.12.2)\n",
            "Downloading caltechdata_api-1.9.0-py3-none-any.whl (45 kB)\n",
            "\u001b[2K   \u001b[90m━━━━━━━━━━━━━━━━━━━━━━━━━━━━━━━━━━━━━━━━\u001b[0m \u001b[32m45.4/45.4 kB\u001b[0m \u001b[31m2.9 MB/s\u001b[0m eta \u001b[36m0:00:00\u001b[0m\n",
            "\u001b[?25hDownloading datacite-1.2.0-py2.py3-none-any.whl (51 kB)\n",
            "\u001b[2K   \u001b[90m━━━━━━━━━━━━━━━━━━━━━━━━━━━━━━━━━━━━━━━━\u001b[0m \u001b[32m51.3/51.3 kB\u001b[0m \u001b[31m3.3 MB/s\u001b[0m eta \u001b[36m0:00:00\u001b[0m\n",
            "\u001b[?25hDownloading s3cmd-2.4.0-py2.py3-none-any.whl (164 kB)\n",
            "\u001b[2K   \u001b[90m━━━━━━━━━━━━━━━━━━━━━━━━━━━━━━━━━━━━━━━━\u001b[0m \u001b[32m165.0/165.0 kB\u001b[0m \u001b[31m6.0 MB/s\u001b[0m eta \u001b[36m0:00:00\u001b[0m\n",
            "\u001b[?25hDownloading s3fs-2024.10.0-py3-none-any.whl (29 kB)\n",
            "Downloading aiobotocore-2.15.2-py3-none-any.whl (77 kB)\n",
            "\u001b[2K   \u001b[90m━━━━━━━━━━━━━━━━━━━━━━━━━━━━━━━━━━━━━━━━\u001b[0m \u001b[32m77.4/77.4 kB\u001b[0m \u001b[31m5.1 MB/s\u001b[0m eta \u001b[36m0:00:00\u001b[0m\n",
            "\u001b[?25hDownloading idutils-1.4.2-py2.py3-none-any.whl (21 kB)\n",
            "Downloading python_magic-0.4.27-py2.py3-none-any.whl (13 kB)\n",
            "Downloading aioitertools-0.12.0-py3-none-any.whl (24 kB)\n",
            "Downloading botocore-1.35.36-py3-none-any.whl (12.6 MB)\n",
            "\u001b[2K   \u001b[90m━━━━━━━━━━━━━━━━━━━━━━━━━━━━━━━━━━━━━━━━\u001b[0m \u001b[32m12.6/12.6 MB\u001b[0m \u001b[31m46.2 MB/s\u001b[0m eta \u001b[36m0:00:00\u001b[0m\n",
            "\u001b[?25hDownloading isbnlib-3.10.14-py2.py3-none-any.whl (52 kB)\n",
            "\u001b[2K   \u001b[90m━━━━━━━━━━━━━━━━━━━━━━━━━━━━━━━━━━━━━━━━\u001b[0m \u001b[32m52.5/52.5 kB\u001b[0m \u001b[31m3.0 MB/s\u001b[0m eta \u001b[36m0:00:00\u001b[0m\n",
            "\u001b[?25hDownloading jmespath-1.0.1-py3-none-any.whl (20 kB)\n",
            "Installing collected packages: isbnlib, python-magic, jmespath, aioitertools, s3cmd, idutils, botocore, datacite, aiobotocore, s3fs, caltechdata_api\n",
            "Successfully installed aiobotocore-2.15.2 aioitertools-0.12.0 botocore-1.35.36 caltechdata_api-1.9.0 datacite-1.2.0 idutils-1.4.2 isbnlib-3.10.14 jmespath-1.0.1 python-magic-0.4.27 s3cmd-2.4.0 s3fs-2024.10.0\n"
          ]
        }
      ]
    },
    {
      "cell_type": "markdown",
      "source": [
        "This command is used to import the *caltechdata_write* function from the *caltechdata_api*. This is the function used to make an upload to the caltechdata site.\n"
      ],
      "metadata": {
        "id": "RU9G1N45HL8W"
      }
    },
    {
      "cell_type": "code",
      "execution_count": null,
      "metadata": {
        "id": "tHe1a9jFk9gn"
      },
      "outputs": [],
      "source": [
        "from caltechdata_api import caltechdata_write"
      ]
    },
    {
      "cell_type": "markdown",
      "source": [
        "Follow the instructions here to get your access token: https://libanswers.caltech.edu/faq/211307"
      ],
      "metadata": {
        "id": "pdVHbtELH4Dm"
      }
    },
    {
      "cell_type": "code",
      "source": [
        "import os\n",
        "os.environ[\"RDMTOK\"] = \"replace with your access token\""
      ],
      "metadata": {
        "id": "A1rOU5lvSrrm"
      },
      "execution_count": null,
      "outputs": []
    },
    {
      "cell_type": "markdown",
      "source": [
        "### Metadata Field Descriptions for Uploading a Dataset:\n",
        "\n",
        "- **Titles**:  \n",
        "  Enter the name of your dataset. Example: *ForestFire Dataset*.\n",
        "\n",
        "- **Creators**:  \n",
        "  Provide information about the person or organization responsible for the dataset.  \n",
        "  - **Family Name**: Last name of the creator. Example: *Johnson*.  \n",
        "  - **Given Name**: First name of the creator. Example: *Fred*.  \n",
        "  - **Name Type**: Indicate whether it’s a *Personal* or *Organizational* name. Example: *Personal*.  \n",
        "  - **Name Identifiers**: Include the ORCID of the creator. Example: *0001-0006-4590-9983*.  \n",
        "  - **Affiliations**: Specify the person’s organization. Example: *Caltech*.\n",
        "\n",
        "- **Types**:  \n",
        "  Indicate the type of resource. Use *Dataset* for both fields.\n",
        "\n",
        "- **Descriptions**:  \n",
        "  Write a detailed description of your data. See https://data.caltech.edu/records/nt8h0-na193 for a sample description of the data.\n",
        "\n",
        "- **Dates**:  \n",
        "  Provide important dates related to the dataset.  \n",
        "  - **Date**: When the dataset was created. Format: *YYYY-MM-DD*. Example: *2023-11-30*.  \n",
        "  - **Date Type**: Choose from options like *Created* or *Published*.\n",
        "\n",
        "\n",
        "- **Publisher**:  \n",
        "  Provide the name of the organization publishing the dataset. Example: *Caltech Library*.\n"
      ],
      "metadata": {
        "id": "A0BAd60EmoRd"
      }
    },
    {
      "cell_type": "code",
      "source": [
        "metadata = {\n",
        "    \"titles\": [{\"title\": \"enter title\"}],\n",
        "    \"creators\": [\n",
        "        {\n",
        "            \"familyName\": \"enter last name\",\n",
        "            \"givenName\": \"enter first name\",\n",
        "            \"nameType\": \"enter nametype\",\n",
        "            \"nameIdentifiers\": [\n",
        "                {\"nameIdentifier\": \"0001-0006-4590-9983\", \"nameIdentifierScheme\": \"ORCID\"}\n",
        "            ],\n",
        "            \"affiliations\": [{\"affiliation\": \"Caltech\"}]\n",
        "        },\n",
        "\n",
        "    ],\n",
        "    \"types\": {\"resourceType\": \"Dataset\", \"resourceTypeGeneral\": \"Dataset\"},\n",
        "    \"descriptions\": [{\"description\": \"A data set of forest fires\", \"descriptionType\": \"Summary\"}],\n",
        "    \"dates\": [{\"date\": \"2023-11-30\", \"dateType\": \"Created\"}],\n",
        "    \"publisher\": \"Caltech Library\",\n",
        "}\n"
      ],
      "metadata": {
        "id": "sRFby6hVldz5"
      },
      "execution_count": null,
      "outputs": []
    },
    {
      "cell_type": "markdown",
      "source": [
        "provide the path to the data on your local machine."
      ],
      "metadata": {
        "id": "Abo_NlSCm42f"
      }
    },
    {
      "cell_type": "code",
      "source": [
        "files = [\"path/to/file\"]\n"
      ],
      "metadata": {
        "id": "wbqM_N9-mGt4"
      },
      "execution_count": null,
      "outputs": []
    },
    {
      "cell_type": "markdown",
      "source": [
        "Set production to True if you're uploading the data to the real caltechdata website. If you're uoloading to the test system, set production to False. All other arguments should remain the same. Set publish to True if you want the record to be published. Set to false if otherwise. A unique id will be printed when you run the code which is an identifier for your record.\n"
      ],
      "metadata": {
        "id": "Zue_AfuMnlRX"
      }
    },
    {
      "cell_type": "code",
      "source": [
        "response = caltechdata_write(\n",
        "    metadata = metadata,\n",
        "    files=files,\n",
        "    production=False,\n",
        "    publish= True\n",
        ")\n",
        "\n",
        "\n",
        "print(response)"
      ],
      "metadata": {
        "colab": {
          "base_uri": "https://localhost:8080/"
        },
        "id": "MKc6rv6llVPO",
        "outputId": "86976ec9-4832-43b4-d22f-b2b78ad1d0e9"
      },
      "execution_count": null,
      "outputs": [
        {
          "output_type": "stream",
          "name": "stdout",
          "text": [
            "pd1yv-pep46\n"
          ]
        }
      ]
    },
    {
      "cell_type": "markdown",
      "source": [
        "After you made an upload to the caltechdata system, you received an id for your upload. If you saved it, paste it in the idv filed. If not, go to the caltechdata website where the data was uploaded and you'll find it in the website address bar in this form https://data.caltechlibrary.dev/uploads/xyz where xyz is the id.\n",
        "\n",
        "\n",
        "The command below is used to import the caltechdata_edit function from the caltechdata_api. This is the function used to make an edit to an upload in the caltechdata site.\n"
      ],
      "metadata": {
        "id": "nofJNKwhopvD"
      }
    },
    {
      "cell_type": "code",
      "source": [
        "from caltechdata_api import caltechdata_edit"
      ],
      "metadata": {
        "id": "ThMh9JkNGt0t"
      },
      "execution_count": null,
      "outputs": []
    },
    {
      "cell_type": "markdown",
      "source": [
        "If you want to make a new upload, provide the directory to the file.\n"
      ],
      "metadata": {
        "id": "qHvV9mPipCLg"
      }
    },
    {
      "cell_type": "code",
      "source": [
        "files = {\"/path/to/file\"}"
      ],
      "metadata": {
        "id": "h2PZn1UdGw67"
      },
      "execution_count": null,
      "outputs": []
    },
    {
      "cell_type": "markdown",
      "source": [
        "Provide the updates you want to make to the various fields in the metadata."
      ],
      "metadata": {
        "id": "N57tCrxPpe2H"
      }
    },
    {
      "cell_type": "code",
      "source": [
        "metadata = {\n",
        "    \"titles\": [{\"title\": \"enter title\"}],\n",
        "    \"creators\": [\n",
        "        {\n",
        "            \"familyName\": \"enter last name\",\n",
        "            \"givenName\": \"enter first name\",\n",
        "            \"nameType\": \"enter nametype\",\n",
        "            \"nameIdentifiers\": [\n",
        "                {\"nameIdentifier\": \"0001-0006-4590-9983\", \"nameIdentifierScheme\": \"ORCID\"}\n",
        "            ],\n",
        "            \"affiliations\": [{\"affiliation\": \"Caltech\"}]\n",
        "        },\n",
        "\n",
        "    ],\n",
        "    \"types\": {\"resourceType\": \"Dataset\", \"resourceTypeGeneral\": \"Dataset\"},\n",
        "    \"descriptions\": [{\"description\": \"A data set of forest fires\", \"descriptionType\": \"Summary\"}],\n",
        "    \"dates\": [{\"date\": \"2023-11-30\", \"dateType\": \"Created\"}],\n",
        "    \"publicationYear\": \"2023\",\n",
        "    \"publisher\": \"Caltech Library\",\n",
        "    \"identifiers\": [\n",
        "        {\"identifier\": \"10.92311/example.doi\", \"identifierType\": \"DOI\"}\n",
        "    ],\n",
        "}"
      ],
      "metadata": {
        "id": "D7bJ4n1ZG9Da"
      },
      "execution_count": null,
      "outputs": []
    },
    {
      "cell_type": "markdown",
      "source": [
        "If you want to keep the already existing file (s), set keepfiles to True. If not, set to False."
      ],
      "metadata": {
        "id": "4cxETY9Cp2dK"
      }
    },
    {
      "cell_type": "code",
      "source": [
        "response = caltechdata_edit(\n",
        "    idv = \"pd1yv-pep46\",\n",
        "    metadata = metadata,\n",
        "    production = False,\n",
        "    publish= True,\n",
        "    keepfiles=True,\n",
        ")\n",
        "\n",
        "\n",
        "print(response)"
      ],
      "metadata": {
        "colab": {
          "base_uri": "https://localhost:8080/"
        },
        "id": "YoR7mNmfHCUl",
        "outputId": "49080dff-6fd6-43b8-acdd-cd772d5fff1e"
      },
      "execution_count": null,
      "outputs": [
        {
          "output_type": "stream",
          "name": "stdout",
          "text": [
            "y53rh-qd294\n",
            "10.9281/example.doi\n"
          ]
        }
      ]
    }
  ]
}